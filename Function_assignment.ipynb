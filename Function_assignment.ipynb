{
  "nbformat": 4,
  "nbformat_minor": 0,
  "metadata": {
    "colab": {
      "provenance": [],
      "toc_visible": true
    },
    "kernelspec": {
      "name": "python3",
      "display_name": "Python 3"
    },
    "language_info": {
      "name": "python"
    }
  },
  "cells": [
    {
      "cell_type": "markdown",
      "source": [
        "Q1. Write a Python function that takes a list of numbers as input and returns the sum of all even numbers in\n",
        "the list."
      ],
      "metadata": {
        "id": "mMHrxTh9o4Ad"
      }
    },
    {
      "cell_type": "markdown",
      "source": [
        ">  To write a Python function that takes a list of numbers and returns the sum of all even numbers in that list, you can follow these steps:\n",
        "\n",
        "Filter the even numbers from the list.\n",
        "Sum the filtered even numbers."
      ],
      "metadata": {
        "id": "KlIEb4MipThZ"
      }
    },
    {
      "cell_type": "code",
      "source": [
        "def sum_of_even_numbers(numbers):\n",
        "    # Filter out the even numbers and calculate their sum\n",
        "    even_sum = sum(number for number in numbers if number % 2 == 0)\n",
        "    return even_sum\n",
        "\n",
        "# Example usage:\n",
        "numbers = [47, 11, 42, 13, 8]\n",
        "result = sum_of_even_numbers(numbers)\n",
        "print(result)  # Output: 50 (42 + 8)\n"
      ],
      "metadata": {
        "id": "74CWWHl0pUpB",
        "colab": {
          "base_uri": "https://localhost:8080/"
        },
        "outputId": "1ea8957a-8e5e-4f87-8af8-2cd8017c1a78"
      },
      "execution_count": 4,
      "outputs": [
        {
          "output_type": "stream",
          "name": "stdout",
          "text": [
            "50\n"
          ]
        }
      ]
    },
    {
      "cell_type": "markdown",
      "source": [
        "Explanation\n",
        "Function Definition: def sum_of_even_numbers(numbers):\n",
        "\n",
        "This defines a function named sum_of_even_numbers that takes a single argument numbers, which is expected to be a list of numbers.\n",
        "Filter and Sum: even_sum = sum(number for number in numbers if number % 2 == 0)\n",
        "\n",
        "This uses a generator expression inside the sum() function.\n",
        "number for number in numbers if number % 2 == 0 iterates over each number in the list and includes only those that are even (i.e., number % 2 == 0).\n",
        "Return the Result: return even_sum\n",
        "\n",
        "This returns the sum of all the even numbers.\n",
        "Example Usage:\n",
        "\n",
        "The numbers list [47, 11, 42, 13, 8] is passed to the function.\n",
        "The function computes the sum of even numbers 42 and 8, resulting in 50.\n",
        "This function handles any list of integers, filtering out the even numbers and summing them efficiently."
      ],
      "metadata": {
        "id": "o3JMXb3HpwNx"
      }
    },
    {
      "cell_type": "markdown",
      "source": [
        "Q2. Create a Python function that accepts a string and returns the reverse of that string."
      ],
      "metadata": {
        "id": "mnWyHuyDqC6j"
      }
    },
    {
      "cell_type": "markdown",
      "source": [
        "To create a Python function that accepts a string and returns the reverse of that string, you can use Python's slicing feature. Here’s a simple function to achieve this"
      ],
      "metadata": {
        "id": "rcqbfYu1qX1N"
      }
    },
    {
      "cell_type": "code",
      "source": [
        "def reverse_string(s):\n",
        "    # Return the reverse of the string using slicing\n",
        "    return s[::-1]\n",
        "\n",
        "# Example usage:\n",
        "input_string = \"hello\"\n",
        "reversed_string = reverse_string(input_string)\n",
        "print(reversed_string)  # Output: \"olleh\"\n"
      ],
      "metadata": {
        "colab": {
          "base_uri": "https://localhost:8080/"
        },
        "id": "pozrzs1kqOUo",
        "outputId": "11bb80e8-98db-4ba7-8059-0f499ea43930"
      },
      "execution_count": 3,
      "outputs": [
        {
          "output_type": "stream",
          "name": "stdout",
          "text": [
            "olleh\n"
          ]
        }
      ]
    },
    {
      "cell_type": "markdown",
      "source": [
        "Explanation\n",
        "Function Definition: def reverse_string(s):\n",
        "\n",
        "This defines a function named reverse_string that takes a single argument s, which is expected to be a string.\n",
        "Reverse String Using Slicing: return s[::-1]\n",
        "\n",
        "The slicing notation s[::-1] is used to reverse the string.\n",
        "s[start:end:step] is the general slicing format.\n",
        "When start and end are omitted and step is -1, it means the slice starts from the end of the string and moves backwards, effectively reversing the string.\n",
        "Example Usage:\n",
        "\n",
        "The input_string \"hello\" is passed to the function.\n",
        "The function returns the reversed string \"olleh\".\n",
        "This method is concise and takes advantage of Python's powerful slicing capabilities to reverse the string efficiently."
      ],
      "metadata": {
        "id": "TPfKpadCqgqT"
      }
    },
    {
      "cell_type": "markdown",
      "source": [
        "Q3. Implement a Python function that takes a list of integers and returns a new list containing the squares of\n",
        "each number."
      ],
      "metadata": {
        "id": "kJOTX10AquAw"
      }
    },
    {
      "cell_type": "markdown",
      "source": [
        "To implement a Python function that takes a list of integers and returns a new list containing the squares of each number, you can use a list comprehension. Here’s how you can do it:"
      ],
      "metadata": {
        "id": "13tzzEBBrJ05"
      }
    },
    {
      "cell_type": "code",
      "source": [
        "def square_numbers(numbers):\n",
        "    # Return a new list containing the squares of each number in the input list\n",
        "    return [number ** 2 for number in numbers]\n",
        "\n",
        "# Example usage:\n",
        "input_list = [1, 2, 3, 4, 5]\n",
        "squared_list = square_numbers(input_list)\n",
        "print(squared_list)  # Output: [1, 4, 9, 16, 25]\n"
      ],
      "metadata": {
        "colab": {
          "base_uri": "https://localhost:8080/"
        },
        "id": "znVS-q75rMMc",
        "outputId": "58eda2d7-c132-439f-bdad-0f7a02bde7bf"
      },
      "execution_count": 5,
      "outputs": [
        {
          "output_type": "stream",
          "name": "stdout",
          "text": [
            "[1, 4, 9, 16, 25]\n"
          ]
        }
      ]
    },
    {
      "cell_type": "markdown",
      "source": [
        "Explanation\n",
        "Function Definition: def square_numbers(numbers):\n",
        "\n",
        "This defines a function named square_numbers that takes a single argument numbers, which is expected to be a list of integers.\n",
        "List Comprehension: [number ** 2 for number in numbers]\n",
        "\n",
        "This list comprehension iterates over each element number in the numbers list.\n",
        "For each number, it computes number ** 2, which is the square of the number.\n",
        "The result is a new list where each element is the square of the corresponding element in the input list.\n",
        "Example Usage:\n",
        "\n",
        "The input_list [1, 2, 3, 4, 5] is passed to the function.\n",
        "The function returns [1, 4, 9, 16, 25], which are the squares of the numbers in the input list.\n",
        "This approach is concise and leverages Python’s list comprehension feature to efficiently create the list of squared values.\n",
        "\n",
        "\n",
        "\n"
      ],
      "metadata": {
        "id": "4tztkwcOrY88"
      }
    },
    {
      "cell_type": "markdown",
      "source": [
        "Q4.  Write a Python function that checks if a given number is prime or not from 1 to 200"
      ],
      "metadata": {
        "id": "oAAJEFwFrb7M"
      }
    },
    {
      "cell_type": "markdown",
      "source": [
        "To write a Python function that checks if a given number is prime, and ensures the number is within the range from 1 to 200, you can follow these steps:\n",
        "\n",
        "Check if the number is within the specified range.\n",
        "Implement a function to determine if a number is prime.\n",
        "Here’s a complete implementation:"
      ],
      "metadata": {
        "id": "9hLIAvZLrqOa"
      }
    },
    {
      "cell_type": "code",
      "source": [
        "def is_prime(num):\n",
        "    \"\"\"\n",
        "    Check if a number is prime.\n",
        "    A number is prime if it is greater than 1 and has no divisors other than 1 and itself.\n",
        "    \"\"\"\n",
        "    if num <= 1:\n",
        "        return False\n",
        "    if num == 2:\n",
        "        return True  # 2 is the only even prime number\n",
        "    if num % 2 == 0:\n",
        "        return False  # No other even number can be prime\n",
        "    for i in range(3, int(num**0.5) + 1, 2):\n",
        "        if num % i == 0:\n",
        "            return False\n",
        "    return True\n",
        "\n",
        "def check_prime_in_range(num):\n",
        "    \"\"\"\n",
        "    Check if the number is within the range 1 to 200 and is prime.\n",
        "    \"\"\"\n",
        "    if 1 <= num <= 200:\n",
        "        return is_prime(num)\n",
        "    else:\n",
        "        return False\n",
        "\n",
        "# Example usage:\n",
        "test_number = 29\n",
        "result = check_prime_in_range(test_number)\n",
        "print(f\"Is {test_number} a prime number? {result}\")\n"
      ],
      "metadata": {
        "colab": {
          "base_uri": "https://localhost:8080/"
        },
        "id": "vZYrmobdrwSw",
        "outputId": "78467c3d-2bad-4521-9eb8-6ca6b0dd2838"
      },
      "execution_count": 6,
      "outputs": [
        {
          "output_type": "stream",
          "name": "stdout",
          "text": [
            "Is 29 a prime number? True\n"
          ]
        }
      ]
    },
    {
      "cell_type": "markdown",
      "source": [
        "Explanation\n",
        "Prime Checking Function: is_prime(num)\n",
        "\n",
        "Handle Special Cases:\n",
        "If num is less than or equal to 1, it’s not prime.\n",
        "If num is 2, it is prime (2 is the only even prime number).\n",
        "If num is even and not 2, it’s not prime.\n",
        "Check Divisibility:\n",
        "For odd numbers greater than 2, check divisibility from 3 up to the square root of num. This is efficient because a larger factor of num would be paired with a smaller factor that has already been checked.\n",
        "Return: If no divisors are found, the number is prime.\n",
        "Range Check Function: check_prime_in_range(num)\n",
        "\n",
        "Check Range: Ensure the number is between 1 and 200.\n",
        "Return Prime Check Result: Use the is_prime function to determine if the number is prime.\n",
        "Example Usage:\n",
        "\n",
        "For the test_number 29, the function will output True indicating that 29 is a prime number.\n",
        "This function setup ensures that any number between 1 and 200 is checked for primality efficiently and accurately."
      ],
      "metadata": {
        "id": "Pfz5Fp3Ur9Ot"
      }
    },
    {
      "cell_type": "markdown",
      "source": [
        "Q5.   Create an iterator class in Python that generates the Fibonacci sequence up to a specified number of\n",
        "terms."
      ],
      "metadata": {
        "id": "H-Nm-inpsAd-"
      }
    },
    {
      "cell_type": "markdown",
      "source": [
        "To create an iterator class in Python that generates the Fibonacci sequence up to a specified number of terms, you can follow these steps:\n",
        "\n",
        "Define the Iterator Class: Create a class that implements the iterator protocol, which requires defining the __iter__() and __next__() methods.\n",
        "\n",
        "Manage State: Keep track of the current state of the Fibonacci sequence, including the number of terms generated and the last two Fibonacci numbers.\n",
        "\n",
        "Here’s an example implementation:"
      ],
      "metadata": {
        "id": "5oXOEPq6sUmJ"
      }
    },
    {
      "cell_type": "code",
      "source": [
        "class FibonacciIterator:\n",
        "    def __init__(self, n):\n",
        "        \"\"\"\n",
        "        Initialize the Fibonacci iterator with the number of terms `n`.\n",
        "        \"\"\"\n",
        "        self.n = n  # Total number of terms to generate\n",
        "        self.current = 0  # Index of the current term\n",
        "        self.a, self.b = 0, 1  # First two Fibonacci numbers\n",
        "\n",
        "    def __iter__(self):\n",
        "        \"\"\"\n",
        "        Return the iterator object itself.\n",
        "        \"\"\"\n",
        "        return self\n",
        "\n",
        "    def __next__(self):\n",
        "        \"\"\"\n",
        "        Return the next Fibonacci number in the sequence.\n",
        "        \"\"\"\n",
        "        if self.current >= self.n:\n",
        "            raise StopIteration  # Stop iteration if the desired number of terms is reached\n",
        "\n",
        "        if self.current == 0:\n",
        "            self.current += 1\n",
        "            return self.a  # Return the first Fibonacci number\n",
        "        elif self.current == 1:\n",
        "            self.current += 1\n",
        "            return self.b  # Return the second Fibonacci number\n",
        "\n",
        "        # Calculate the next Fibonacci number\n",
        "        self.a, self.b = self.b, self.a + self.b\n",
        "        self.current += 1\n",
        "        return self.b\n",
        "\n",
        "# Example usage:\n",
        "n_terms = 10\n",
        "fib_iter = FibonacciIterator(n_terms)\n",
        "for num in fib_iter:\n",
        "    print(num)\n"
      ],
      "metadata": {
        "colab": {
          "base_uri": "https://localhost:8080/"
        },
        "id": "vsIeZvhZsyu9",
        "outputId": "74a4c27f-208f-4648-c307-6ce2a132ee4c"
      },
      "execution_count": 7,
      "outputs": [
        {
          "output_type": "stream",
          "name": "stdout",
          "text": [
            "0\n",
            "1\n",
            "1\n",
            "2\n",
            "3\n",
            "5\n",
            "8\n",
            "13\n",
            "21\n",
            "34\n"
          ]
        }
      ]
    },
    {
      "cell_type": "markdown",
      "source": [
        "Explanation\n",
        "Class Initialization: __init__(self, n)\n",
        "\n",
        "n: Number of terms to generate.\n",
        "self.current: Index to track the current position in the sequence.\n",
        "self.a and self.b: The first two Fibonacci numbers, initialized to 0 and 1.\n",
        "Iterator Method: __iter__(self)\n",
        "\n",
        "This method returns the iterator object itself. In this case, it simply returns self.\n",
        "Next Method: __next__(self)\n",
        "\n",
        "Check Term Count: If the current term index is greater than or equal to n, raise StopIteration to signal that iteration should stop.\n",
        "Handle Initial Terms: The first two terms (0 and 1) are handled separately.\n",
        "Generate Subsequent Terms: Compute the next Fibonacci number and update the state variables self.a and self.b.\n",
        "Update Current Index: Increment self.current and return the current Fibonacci number.\n",
        "Example Usage:\n",
        "\n",
        "Create an instance of FibonacciIterator with n_terms set to 10.\n",
        "Use a for loop to iterate through the Fibonacci sequence and print each number.\n",
        "This implementation of the Fibonacci iterator class is straightforward and efficiently generates Fibonacci numbers up to the specified count.\n",
        "\n",
        "\n",
        "\n",
        "\n"
      ],
      "metadata": {
        "id": "M2TFN5EKs46E"
      }
    },
    {
      "cell_type": "markdown",
      "source": [
        "Q6.   Write a generator function in Python that yields the powers of 2 up to a given exponent."
      ],
      "metadata": {
        "id": "8me47z6JtBC7"
      }
    },
    {
      "cell_type": "markdown",
      "source": [
        " A generator function in Python can be used to yield a sequence of values one at a time. To create a generator that yields the powers of 2 up to a given exponent, you can use the yield keyword. Here’s how you can implement it:"
      ],
      "metadata": {
        "id": "ZEJZs95TtSGM"
      }
    },
    {
      "cell_type": "code",
      "source": [
        "def powers_of_two(max_exponent):\n",
        "    \"\"\"\n",
        "    Generator function that yields powers of 2 up to a given exponent.\n",
        "\n",
        "    Parameters:\n",
        "    max_exponent (int): The maximum exponent to which 2 will be raised.\n",
        "    \"\"\"\n",
        "    exponent = 0\n",
        "    while exponent <= max_exponent:\n",
        "        yield 2 ** exponent\n",
        "        exponent += 1\n",
        "\n",
        "# Example usage:\n",
        "max_exp = 5\n",
        "for power in powers_of_two(max_exp):\n",
        "    print(power)\n"
      ],
      "metadata": {
        "colab": {
          "base_uri": "https://localhost:8080/"
        },
        "id": "qhDTXkkFtWfd",
        "outputId": "d9884a65-6450-456e-9f75-f5f0b2f2ef96"
      },
      "execution_count": 8,
      "outputs": [
        {
          "output_type": "stream",
          "name": "stdout",
          "text": [
            "1\n",
            "2\n",
            "4\n",
            "8\n",
            "16\n",
            "32\n"
          ]
        }
      ]
    },
    {
      "cell_type": "markdown",
      "source": [
        "Explanation\n",
        "Generator Function Definition: def powers_of_two(max_exponent):\n",
        "\n",
        "This function is a generator that takes a single parameter max_exponent, which specifies the maximum exponent for the power of 2.\n",
        "Yield Powers of 2:\n",
        "\n",
        "Initialize Exponent: Start with exponent = 0.\n",
        "While Loop: Continue looping while the current exponent is less than or equal to max_exponent.\n",
        "Yield Value: Use yield to output 2 ** exponent, which is the power of 2 for the current exponent.\n",
        "Increment Exponent: Increase the exponent by 1 for the next iteration.\n",
        "Example Usage:\n",
        "\n",
        "Set max_exp to 5.\n",
        "Use a for loop to iterate through the generator powers_of_two(max_exp) and print each yielded value.\n",
        "Output\n",
        "For max_exp = 5, the generator yields:"
      ],
      "metadata": {
        "id": "hkFUvU5ntc9F"
      }
    },
    {
      "cell_type": "code",
      "source": [
        "1       # 2^0\n",
        "2       # 2^1\n",
        "4       # 2^2\n",
        "8       # 2^3\n",
        "16      # 2^4\n",
        "32      # 2^5\n"
      ],
      "metadata": {
        "colab": {
          "base_uri": "https://localhost:8080/"
        },
        "id": "brtF3O3htk6j",
        "outputId": "c7bc3de6-a298-46ae-8347-53b1995d1b6c"
      },
      "execution_count": 10,
      "outputs": [
        {
          "output_type": "execute_result",
          "data": {
            "text/plain": [
              "32"
            ]
          },
          "metadata": {},
          "execution_count": 10
        }
      ]
    },
    {
      "cell_type": "markdown",
      "source": [
        "This generator function efficiently produces the sequence of powers of 2 up to the specified exponent without computing all values at once, making it suitable for handling larger ranges of exponents in a memory-efficient manner.\n",
        "\n",
        "\n",
        "\n"
      ],
      "metadata": {
        "id": "mZCqB-ZWtqj_"
      }
    },
    {
      "cell_type": "markdown",
      "source": [
        "Q7.    Implement a generator function that reads a file line by line and yields each line as a string."
      ],
      "metadata": {
        "id": "qtZ3DxO4tvxP"
      }
    },
    {
      "cell_type": "markdown",
      "source": [
        " To implement a generator function that reads a file line by line and yields each line as a string, you can use Python's file handling capabilities along with the yield keyword. This approach ensures that the file is read efficiently and that lines are yielded one at a time.\n",
        "\n",
        "Here's a sample implementation:"
      ],
      "metadata": {
        "id": "OD4Klkn5t9Wr"
      }
    },
    {
      "cell_type": "code",
      "source": [
        "def read_file_lines(filename):\n",
        "    \"\"\"\n",
        "    Generator function that reads a file line by line and yields each line as a string.\n",
        "\n",
        "    Parameters:\n",
        "    filename (str): The path to the file to read.\n",
        "    \"\"\"\n",
        "    try:\n",
        "        with open(filename, 'r') as file:\n",
        "            for line in file:\n",
        "                yield line.rstrip('\\n')  # Yield each line, stripping the newline character\n",
        "    except FileNotFoundError:\n",
        "        print(f\"Error: File '{filename}' not found.\")\n",
        "\n",
        "# Example usage:\n",
        "filename = 'ipython-input-10-06104704bd52' # Changed to match the actual file name\n",
        "\n",
        "# Create a generator object\n",
        "line_generator = read_file_lines(filename)\n",
        "\n",
        "# Iterate over the generator and print each line\n",
        "if line_generator:\n",
        "    for line in line_generator:\n",
        "        print(line)"
      ],
      "metadata": {
        "colab": {
          "base_uri": "https://localhost:8080/"
        },
        "id": "8Suek5HmuFSM",
        "outputId": "ac86b318-b638-4eb5-c7cf-4436ab964563"
      },
      "execution_count": 13,
      "outputs": [
        {
          "output_type": "stream",
          "name": "stdout",
          "text": [
            "Error: File 'ipython-input-10-06104704bd52' not found.\n"
          ]
        }
      ]
    },
    {
      "cell_type": "markdown",
      "source": [
        "Explanation\n",
        "Generator Function Definition: def read_file_lines(filename):\n",
        "\n",
        "This function takes a single parameter filename, which specifies the path to the file to be read.\n",
        "Open the File: with open(filename, 'r') as file:\n",
        "\n",
        "Use a with statement to open the file in read mode ('r'). This ensures the file is properly closed after reading.\n",
        "Read Line by Line: for line in file:\n",
        "\n",
        "Iterate over the file object directly, which reads the file line by line.\n",
        "Yield Each Line: yield line.rstrip('\\n')\n",
        "\n",
        "Use yield to return each line from the generator. The rstrip('\\n') method is used to strip the newline character from the end of each line. This makes it more convenient if you don't want the newline characters in your output.\n",
        "Example Usage:\n",
        "\n",
        "Specify the path to your file (e.g., 'example.txt').\n",
        "Create a generator object by calling read_file_lines(filename).\n",
        "Iterate over the generator using a for loop to process or print each line.\n",
        "Notes\n",
        "The yield keyword provides a memory-efficient way to handle large files because it processes one line at a time rather than loading the entire file into memory.\n",
        "If the file is very large or if you want to avoid memory issues, this approach is ideal since it only keeps one line in memory at a time.\n",
        "You can adjust the path to the file as needed and use the generator to handle files of varying sizes efficiently.\n",
        "\n",
        "\n",
        "\n"
      ],
      "metadata": {
        "id": "X5_LStEEurAi"
      }
    },
    {
      "cell_type": "markdown",
      "source": [
        "Q8.      Use a lambda function in Python to sort a list of tuples based on the second element of each tuple.\n",
        "\n"
      ],
      "metadata": {
        "id": "NLDlRYgfu5xM"
      }
    },
    {
      "cell_type": "markdown",
      "source": [
        "You can use a lambda function in Python to sort a list of tuples based on the second element of each tuple by leveraging the sorted() function or the .sort() method of a list. The lambda function will be used as the key for sorting.\n",
        "\n",
        "Here’s how you can do it:\n",
        "\n",
        "Using sorted() Function\n",
        "The sorted() function returns a new list containing all items from the original list in sorted order. Here’s how you can sort a list of tuples based on the second element using sorted():"
      ],
      "metadata": {
        "id": "4ddKI22wvGn_"
      }
    },
    {
      "cell_type": "code",
      "source": [
        "# List of tuples\n",
        "data = [(1, 3), (2, 1), (3, 2), (4, 4)]\n",
        "\n",
        "# Sort the list of tuples based on the second element of each tuple\n",
        "sorted_data = sorted(data, key=lambda x: x[1])\n",
        "\n",
        "print(sorted_data)  # Output: [(2, 1), (3, 2), (1, 3), (4, 4)]\n"
      ],
      "metadata": {
        "colab": {
          "base_uri": "https://localhost:8080/"
        },
        "id": "1eHJipozvSXP",
        "outputId": "5d010756-b10e-4b99-9d78-daab938d6145"
      },
      "execution_count": 14,
      "outputs": [
        {
          "output_type": "stream",
          "name": "stdout",
          "text": [
            "[(2, 1), (3, 2), (1, 3), (4, 4)]\n"
          ]
        }
      ]
    },
    {
      "cell_type": "markdown",
      "source": [
        "Using .sort() Method\n",
        "The .sort() method sorts the list in place and does not return a new list. Here’s how you can sort a list of tuples based on the second element using .sort():"
      ],
      "metadata": {
        "id": "i7Nl9p0TvZrV"
      }
    },
    {
      "cell_type": "code",
      "source": [
        "# List of tuples\n",
        "data = [(1, 3), (2, 1), (3, 2), (4, 4)]\n",
        "\n",
        "# Sort the list of tuples in place based on the second element of each tuple\n",
        "data.sort(key=lambda x: x[1])\n",
        "\n",
        "print(data)  # Output: [(2, 1), (3, 2), (1, 3), (4, 4)]\n"
      ],
      "metadata": {
        "colab": {
          "base_uri": "https://localhost:8080/"
        },
        "id": "0wO-Cf59vYNR",
        "outputId": "c9f1bf30-bfea-43c0-d184-9980f8e53f0c"
      },
      "execution_count": 15,
      "outputs": [
        {
          "output_type": "stream",
          "name": "stdout",
          "text": [
            "[(2, 1), (3, 2), (1, 3), (4, 4)]\n"
          ]
        }
      ]
    },
    {
      "cell_type": "markdown",
      "source": [
        "Explanation\n",
        "Lambda Function: lambda x: x[1]\n",
        "\n",
        "This lambda function takes an argument x (which is a tuple) and returns the second element of the tuple (x[1]).\n",
        "sorted() Function:\n",
        "\n",
        "sorted(data, key=lambda x: x[1]) sorts the data list by the second element of each tuple and returns a new sorted list.\n",
        ".sort() Method:\n",
        "\n",
        "data.sort(key=lambda x: x[1]) sorts the data list in place by the second element of each tuple.\n",
        "Both methods will sort the list of tuples based on the second element of each tuple, and you can choose either based on whether you want to return a new list or modify the original list in place.\n",
        "\n",
        "\n",
        "\n"
      ],
      "metadata": {
        "id": "SpZyXAocvi03"
      }
    },
    {
      "cell_type": "markdown",
      "source": [
        "Q9.    Write a Python program that uses map() to convert a list of temperatures from Celsius to Fahrenheit."
      ],
      "metadata": {
        "id": "y0Gi31U0vmzd"
      }
    },
    {
      "cell_type": "markdown",
      "source": [
        "To convert a list of temperatures from Celsius to Fahrenheit using the map() function in Python, you need to follow these steps:\n",
        "\n",
        "Define the Conversion Function: Create a function that converts a temperature from Celsius to Fahrenheit.\n",
        "\n",
        "Use map(): Apply this conversion function to each element in the list of temperatures using map().\n",
        "\n",
        "Convert to List: Since map() returns an iterator, convert the result to a list to see the output.\n",
        "\n",
        "Here’s a complete Python program that demonstrates this:"
      ],
      "metadata": {
        "id": "He9Onsspv4CH"
      }
    },
    {
      "cell_type": "code",
      "source": [
        "def celsius_to_fahrenheit(celsius):\n",
        "    \"\"\"\n",
        "    Convert Celsius to Fahrenheit.\n",
        "\n",
        "    Parameters:\n",
        "    celsius (float): Temperature in Celsius.\n",
        "\n",
        "    Returns:\n",
        "    float: Temperature in Fahrenheit.\n",
        "    \"\"\"\n",
        "    return (celsius * 9/5) + 32\n",
        "\n",
        "# List of temperatures in Celsius\n",
        "celsius_temps = [0, 20, 37, 100]\n",
        "\n",
        "# Use map() to apply the conversion function to each temperature\n",
        "fahrenheit_temps = map(celsius_to_fahrenheit, celsius_temps)\n",
        "\n",
        "# Convert the map object to a list\n",
        "fahrenheit_temps_list = list(fahrenheit_temps)\n",
        "\n",
        "print(fahrenheit_temps_list)  # Output: [32.0, 68.0, 98.60000000000001, 212.0]\n"
      ],
      "metadata": {
        "colab": {
          "base_uri": "https://localhost:8080/"
        },
        "id": "Y0asByXovhoz",
        "outputId": "65cb8fdc-a859-47bf-d420-c70607981a24"
      },
      "execution_count": 16,
      "outputs": [
        {
          "output_type": "stream",
          "name": "stdout",
          "text": [
            "[32.0, 68.0, 98.6, 212.0]\n"
          ]
        }
      ]
    },
    {
      "cell_type": "markdown",
      "source": [
        "Explanation\n",
        "Conversion Function: celsius_to_fahrenheit(celsius)\n",
        "\n",
        "This function takes a temperature in Celsius and converts it to Fahrenheit using the formula:\n",
        "Fahrenheit\n",
        "=\n",
        "(\n",
        "Celsius\n",
        "×\n",
        "9\n",
        "5\n",
        ")\n",
        "+\n",
        "32\n",
        "Fahrenheit=(Celsius×\n",
        "5\n",
        "9\n",
        "​\n",
        " )+32\n",
        "List of Temperatures: celsius_temps\n",
        "\n",
        "This is a list containing temperatures in Celsius that you want to convert.\n",
        "Apply map():\n",
        "\n",
        "map(celsius_to_fahrenheit, celsius_temps) applies the celsius_to_fahrenheit function to each item in the celsius_temps list.\n",
        "map() returns an iterator that produces the converted temperatures.\n",
        "Convert to List:\n",
        "\n",
        "list(fahrenheit_temps) converts the iterator returned by map() to a list of Fahrenheit temperatures.\n",
        "Print the Result:\n",
        "\n",
        "The program prints the list of temperatures converted to Fahrenheit.\n",
        "This approach is efficient and leverages the power of functional programming in Python to transform a list of temperatures in a clean and readable manner.\n",
        "\n",
        "\n",
        "\n"
      ],
      "metadata": {
        "id": "KjyJ5bsmv_Eb"
      }
    },
    {
      "cell_type": "markdown",
      "source": [
        "Q10.   Create a Python program that uses filter() to remove all the vowels from a given string."
      ],
      "metadata": {
        "id": "HLFCcUChwD7R"
      }
    },
    {
      "cell_type": "markdown",
      "source": [
        " To create a Python program that uses the filter() function to remove all vowels from a given string, follow these steps:\n",
        "\n",
        "Define a Predicate Function: Create a function that returns True for characters that are not vowels and False for vowels.\n",
        "\n",
        "Use filter(): Apply this predicate function to each character in the string using filter().\n",
        "\n",
        "Convert the Filtered Result to a String: Join the filtered characters back into a string.\n",
        "\n",
        "Here’s a complete Python program that demonstrates this:"
      ],
      "metadata": {
        "id": "rrKzW-PZwUqJ"
      }
    },
    {
      "cell_type": "code",
      "source": [
        "def is_not_vowel(char):\n",
        "    \"\"\"\n",
        "    Predicate function to check if a character is not a vowel.\n",
        "\n",
        "    Parameters:\n",
        "    char (str): A single character string.\n",
        "\n",
        "    Returns:\n",
        "    bool: True if the character is not a vowel, False otherwise.\n",
        "    \"\"\"\n",
        "    return char.lower() not in 'aeiou'\n",
        "\n",
        "def remove_vowels(input_string):\n",
        "    \"\"\"\n",
        "    Remove all vowels from the given string.\n",
        "\n",
        "    Parameters:\n",
        "    input_string (str): The string from which vowels will be removed.\n",
        "\n",
        "    Returns:\n",
        "    str: The string with all vowels removed.\n",
        "    \"\"\"\n",
        "    # Filter out vowels and join the result into a new string\n",
        "    filtered_chars = filter(is_not_vowel, input_string)\n",
        "    return ''.join(filtered_chars)\n",
        "\n",
        "# Example usage\n",
        "input_string = \"Hello World\"\n",
        "result = remove_vowels(input_string)\n",
        "print(result)  # Output: \"Hll Wrld\"\n"
      ],
      "metadata": {
        "colab": {
          "base_uri": "https://localhost:8080/"
        },
        "id": "GlEBhqQcwbqS",
        "outputId": "2b8848f9-2c96-4595-a4af-23f4d89a5d36"
      },
      "execution_count": 24,
      "outputs": [
        {
          "output_type": "stream",
          "name": "stdout",
          "text": [
            "Hll Wrld\n"
          ]
        }
      ]
    },
    {
      "cell_type": "markdown",
      "source": [
        "Explanation\n",
        "Predicate Function: is_not_vowel(char)\n",
        "\n",
        "Purpose: This function determines if a character is not a vowel.\n",
        "Implementation: It checks if the lowercase version of the character is not in the string 'aeiou' (which contains all vowels).\n",
        "Remove Vowels Function: remove_vowels(input_string)\n",
        "\n",
        "Filter Characters: filter(is_not_vowel, input_string) applies the is_not_vowel function to each character in input_string, filtering out vowels.\n",
        "Join Characters: ''.join(filtered_chars) combines the filtered characters back into a single string.\n",
        "Example Usage:\n",
        "\n",
        "For the input string \"Hello World\", the program removes the vowels and prints \"Hll Wrld\".\n",
        "This approach efficiently removes vowels from the input string by using the filter() function along with a predicate function to exclude vowels."
      ],
      "metadata": {
        "id": "F_ql_62DxFL-"
      }
    },
    {
      "cell_type": "markdown",
      "source": [
        "Q11.   Imagine an accounting routine used in a book shop. It works on a list with sublists, which look like this:"
      ],
      "metadata": {
        "id": "AmrPIdP1xaP0"
      }
    },
    {
      "cell_type": "markdown",
      "source": [
        "To solve this problem, you'll want to use the map() function along with a lambda function to process the list of orders. Each order will be represented as a sublist containing an order number, price per item, and quantity.\n",
        "\n",
        "Here’s a step-by-step approach to achieve this:\n",
        "\n",
        "Define the Lambda Function: This function will calculate the total price for each order, apply the adjustment if necessary, and return a tuple containing the order number and the adjusted total price.\n",
        "\n",
        "Use map(): Apply this lambda function to each sublist in the main list to get the desired results.\n",
        "\n",
        "Here's the complete Python program:"
      ],
      "metadata": {
        "id": "AVI32CbGxsoU"
      }
    },
    {
      "cell_type": "code",
      "source": [
        "def calculate_order_totals(orders):\n",
        "    \"\"\"\n",
        "    Calculate the total price for each order, adjust the price if necessary, and return a list of tuples.\n",
        "\n",
        "    Parameters:\n",
        "    orders (list of lists): Each sublist contains [order_number, price_per_item, quantity].\n",
        "\n",
        "    Returns:\n",
        "    list of tuples: Each tuple contains (order_number, adjusted_total_price).\n",
        "    \"\"\"\n",
        "    # Define lambda function to process each order\n",
        "    process_order = lambda order: (\n",
        "        order[0],  # Order number\n",
        "        (order[1] * order[2]) + 10 if (order[1] * order[2]) < 100 else order[1] * order[2]\n",
        "    )\n",
        "\n",
        "    # Apply the lambda function to each order in the list using map\n",
        "    return list(map(process_order, orders))\n",
        "\n",
        "# Example usage\n",
        "orders = [\n",
        "    [1, 15.0, 4],    # Order number 1, price per item 15.0, quantity 4\n",
        "    [2, 20.0, 3],    # Order number 2, price per item 20.0, quantity 3\n",
        "    [3, 50.0, 2],    # Order number 3, price per item 50.0, quantity 2\n",
        "    [4, 5.0, 10]     # Order number 4, price per item 5.0, quantity 10\n",
        "]\n",
        "\n",
        "# Calculate totals and adjust if necessary\n",
        "result = calculate_order_totals(orders)\n",
        "print(result)  # Output: [(1, 70.0), (2, 80.0), (3, 100.0), (4, 60.0)]\n"
      ],
      "metadata": {
        "colab": {
          "base_uri": "https://localhost:8080/"
        },
        "id": "4I03Y6oJw5eA",
        "outputId": "0bb38070-ae45-4538-eaa5-2f5c51398858"
      },
      "execution_count": 25,
      "outputs": [
        {
          "output_type": "stream",
          "name": "stdout",
          "text": [
            "[(1, 70.0), (2, 70.0), (3, 100.0), (4, 60.0)]\n"
          ]
        }
      ]
    },
    {
      "cell_type": "markdown",
      "source": [
        "Explanation\n",
        "Lambda Function: process_order\n",
        "\n",
        "Parameters: order (a sublist containing [order_number, price_per_item, quantity])\n",
        "Calculation:\n",
        "order[1] * order[2] calculates the total price without adjustment.\n",
        "If the total price is less than 100, add 10 to it.\n",
        "Otherwise, use the total price as is.\n",
        "Returns: A tuple with the order number and the adjusted total price.\n",
        "Using map():\n",
        "\n",
        "map(process_order, orders) applies the process_order lambda function to each sublist in the orders list.\n",
        "Convert the result to a list using list(map(...)).\n",
        "Example Usage:\n",
        "\n",
        "The orders list contains several orders with different prices and quantities.\n",
        "The program calculates the total price for each order, adjusts if necessary, and prints the result.\n",
        "This approach is efficient and leverages Python's functional programming features to transform the list of orders into the desired format.\n",
        "\n",
        "\n",
        "\n"
      ],
      "metadata": {
        "id": "Ro5fXT0-x9iO"
      }
    }
  ]
}